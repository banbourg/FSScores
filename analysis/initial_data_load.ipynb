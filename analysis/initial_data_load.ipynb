{
 "cells": [
  {
   "cell_type": "code",
   "execution_count": 1,
   "metadata": {
    "collapsed": true
   },
   "outputs": [],
   "source": [
    "import pandas as pd\n",
    "import psycopg2\n",
    "import matplotlib.pyplot as plt\n",
    "\n",
    "from init import settings"
   ]
  },
  {
   "cell_type": "code",
   "execution_count": 2,
   "metadata": {
    "collapsed": true
   },
   "outputs": [],
   "source": [
    "%matplotlib inline"
   ]
  },
  {
   "cell_type": "code",
   "execution_count": 3,
   "metadata": {
    "collapsed": true
   },
   "outputs": [],
   "source": [
    "conn = psycopg2.connect(database=settings.DB, user=settings.UN, password=settings.PW,\n",
    "        host=settings.H, port=settings.PORT)"
   ]
  },
  {
   "cell_type": "code",
   "execution_count": 4,
   "metadata": {},
   "outputs": [],
   "source": [
    "tables = pd.read_sql_query(\"\"\"\n",
    "SELECT table_name\n",
    "  FROM information_schema.tables\n",
    " WHERE table_schema='public'\n",
    "   AND table_type='BASE TABLE'\n",
    "   AND table_name not like '%_old'\"\"\", conn)"
   ]
  },
  {
   "cell_type": "code",
   "execution_count": 5,
   "metadata": {},
   "outputs": [],
   "source": [
    "table_names = tables['table_name'].tolist()"
   ]
  },
  {
   "cell_type": "code",
   "execution_count": 6,
   "metadata": {},
   "outputs": [
    {
     "data": {
      "text/plain": [
       "['deductions',\n",
       " 'calls',\n",
       " 'pcs',\n",
       " 'goe',\n",
       " 'competitors',\n",
       " 'elt_scores',\n",
       " 'total_scores',\n",
       " 'judges_with_countries',\n",
       " 'judges']"
      ]
     },
     "execution_count": 6,
     "metadata": {},
     "output_type": "execute_result"
    }
   ],
   "source": [
    "table_names"
   ]
  },
  {
   "cell_type": "code",
   "execution_count": 7,
   "metadata": {
    "collapsed": true
   },
   "outputs": [],
   "source": [
    "judges = pd.read_sql_query(\"Select * FROM judges\", conn)"
   ]
  },
  {
   "cell_type": "code",
   "execution_count": 8,
   "metadata": {},
   "outputs": [
    {
     "data": {
      "text/html": [
       "<div>\n",
       "<style>\n",
       "    .dataframe thead tr:only-child th {\n",
       "        text-align: right;\n",
       "    }\n",
       "\n",
       "    .dataframe thead th {\n",
       "        text-align: left;\n",
       "    }\n",
       "\n",
       "    .dataframe tbody tr th {\n",
       "        vertical-align: top;\n",
       "    }\n",
       "</style>\n",
       "<table border=\"1\" class=\"dataframe\">\n",
       "  <thead>\n",
       "    <tr style=\"text-align: right;\">\n",
       "      <th></th>\n",
       "      <th>elt_id</th>\n",
       "      <th>season</th>\n",
       "      <th>year</th>\n",
       "      <th>event</th>\n",
       "      <th>sub_event</th>\n",
       "      <th>discipline</th>\n",
       "      <th>category</th>\n",
       "      <th>segment</th>\n",
       "      <th>role</th>\n",
       "      <th>judge_name</th>\n",
       "      <th>country</th>\n",
       "    </tr>\n",
       "  </thead>\n",
       "  <tbody>\n",
       "    <tr>\n",
       "      <th>0</th>\n",
       "      <td>0</td>\n",
       "      <td>SB2014</td>\n",
       "      <td>2014</td>\n",
       "      <td>SC</td>\n",
       "      <td></td>\n",
       "      <td>Men</td>\n",
       "      <td>Sr</td>\n",
       "      <td>SP</td>\n",
       "      <td>Referee</td>\n",
       "      <td>Rita ZONNEKEYN</td>\n",
       "      <td>ISU</td>\n",
       "    </tr>\n",
       "    <tr>\n",
       "      <th>1</th>\n",
       "      <td>1</td>\n",
       "      <td>SB2014</td>\n",
       "      <td>2014</td>\n",
       "      <td>SC</td>\n",
       "      <td></td>\n",
       "      <td>Men</td>\n",
       "      <td>Sr</td>\n",
       "      <td>SP</td>\n",
       "      <td>Technical Controller</td>\n",
       "      <td>Benoit LAVOIE</td>\n",
       "      <td>ISU</td>\n",
       "    </tr>\n",
       "    <tr>\n",
       "      <th>2</th>\n",
       "      <td>2</td>\n",
       "      <td>SB2014</td>\n",
       "      <td>2014</td>\n",
       "      <td>SC</td>\n",
       "      <td></td>\n",
       "      <td>Men</td>\n",
       "      <td>Sr</td>\n",
       "      <td>SP</td>\n",
       "      <td>Technical Specialist</td>\n",
       "      <td>Claudia UNGER</td>\n",
       "      <td>ISU</td>\n",
       "    </tr>\n",
       "    <tr>\n",
       "      <th>3</th>\n",
       "      <td>3</td>\n",
       "      <td>SB2014</td>\n",
       "      <td>2014</td>\n",
       "      <td>SC</td>\n",
       "      <td></td>\n",
       "      <td>Men</td>\n",
       "      <td>Sr</td>\n",
       "      <td>SP</td>\n",
       "      <td>Assistant Technical Specialist</td>\n",
       "      <td>Jyrina LORENZ</td>\n",
       "      <td>ISU</td>\n",
       "    </tr>\n",
       "    <tr>\n",
       "      <th>4</th>\n",
       "      <td>4</td>\n",
       "      <td>SB2014</td>\n",
       "      <td>2014</td>\n",
       "      <td>SC</td>\n",
       "      <td></td>\n",
       "      <td>Men</td>\n",
       "      <td>Sr</td>\n",
       "      <td>SP</td>\n",
       "      <td>j1</td>\n",
       "      <td>Emilie BILLOW</td>\n",
       "      <td>SWE</td>\n",
       "    </tr>\n",
       "  </tbody>\n",
       "</table>\n",
       "</div>"
      ],
      "text/plain": [
       "  elt_id  season  year event sub_event discipline category segment  \\\n",
       "0      0  SB2014  2014    SC                  Men       Sr      SP   \n",
       "1      1  SB2014  2014    SC                  Men       Sr      SP   \n",
       "2      2  SB2014  2014    SC                  Men       Sr      SP   \n",
       "3      3  SB2014  2014    SC                  Men       Sr      SP   \n",
       "4      4  SB2014  2014    SC                  Men       Sr      SP   \n",
       "\n",
       "                             role      judge_name country  \n",
       "0                         Referee  Rita ZONNEKEYN     ISU  \n",
       "1            Technical Controller   Benoit LAVOIE     ISU  \n",
       "2            Technical Specialist   Claudia UNGER     ISU  \n",
       "3  Assistant Technical Specialist   Jyrina LORENZ     ISU  \n",
       "4                              j1   Emilie BILLOW     SWE  "
      ]
     },
     "execution_count": 8,
     "metadata": {},
     "output_type": "execute_result"
    }
   ],
   "source": [
    "judges.head()"
   ]
  },
  {
   "cell_type": "code",
   "execution_count": 9,
   "metadata": {},
   "outputs": [
    {
     "data": {
      "text/plain": [
       "elt_id        object\n",
       "season        object\n",
       "year           int64\n",
       "event         object\n",
       "sub_event     object\n",
       "discipline    object\n",
       "category      object\n",
       "segment       object\n",
       "role          object\n",
       "judge_name    object\n",
       "country       object\n",
       "dtype: object"
      ]
     },
     "execution_count": 9,
     "metadata": {},
     "output_type": "execute_result"
    }
   ],
   "source": [
    "judges.dtypes"
   ]
  },
  {
   "cell_type": "code",
   "execution_count": null,
   "metadata": {
    "collapsed": true
   },
   "outputs": [],
   "source": [
    ""
   ]
  }
 ],
 "metadata": {
  "kernelspec": {
   "display_name": "Python 3",
   "language": "python",
   "name": "python3"
  },
  "language_info": {
   "codemirror_mode": {
    "name": "ipython",
    "version": 3.0
   },
   "file_extension": ".py",
   "mimetype": "text/x-python",
   "name": "python",
   "nbconvert_exporter": "python",
   "pygments_lexer": "ipython3",
   "version": "3.6.1"
  }
 },
 "nbformat": 4,
 "nbformat_minor": 0
}